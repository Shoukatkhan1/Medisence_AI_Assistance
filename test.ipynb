{
 "cells": [
  {
   "cell_type": "code",
   "execution_count": 1,
   "id": "0e720fdc",
   "metadata": {},
   "outputs": [
    {
     "name": "stdout",
     "output_type": "stream",
     "text": [
      "OK\n"
     ]
    }
   ],
   "source": [
    "print(\"OK\")"
   ]
  },
  {
   "cell_type": "code",
   "execution_count": 2,
   "id": "6ad21e1e",
   "metadata": {},
   "outputs": [],
   "source": [
    "import os \n",
    "os.chdir(\"../\")"
   ]
  },
  {
   "cell_type": "code",
   "execution_count": 3,
   "id": "6ceeeacc",
   "metadata": {},
   "outputs": [],
   "source": [
    "from langchain.document_loaders import PyPDFLoader, DirectoryLoader\n",
    "from langchain.text_splitter import RecursiveCharacterTextSplitter"
   ]
  },
  {
   "cell_type": "code",
   "execution_count": 4,
   "id": "5ea1eb34",
   "metadata": {},
   "outputs": [],
   "source": [
    "# Extract text from PDF files\n",
    "def load_pdf_files(data):\n",
    "    loader = DirectoryLoader(\n",
    "        data,\n",
    "        glob=\"*.pdf\",\n",
    "        loader_cls=PyPDFLoader\n",
    "    )\n",
    "\n",
    "    documents = loader.load()\n",
    "    return documents"
   ]
  },
  {
   "cell_type": "code",
   "execution_count": 5,
   "id": "cb02a4c7",
   "metadata": {},
   "outputs": [],
   "source": [
    "extracted_data = load_pdf_files(\"data\")\n"
   ]
  },
  {
   "cell_type": "code",
   "execution_count": 6,
   "id": "536c033e",
   "metadata": {},
   "outputs": [
    {
     "data": {
      "text/plain": [
       "[Document(metadata={'producer': 'Adobe PDF Library 16.0.7', 'creator': 'Adobe InDesign 17.4 (Macintosh)', 'creationdate': '2022-10-21T08:31:18-04:00', 'moddate': '2022-10-21T08:31:22-04:00', 'trapped': '/False', 'source': 'data\\\\GeneralUrology-UrologyBasics-FS-2022-English (1).pdf', 'total_pages': 2, 'page': 0, 'page_label': '1'}, page_content='What is Urology?\\nUrology is a branch of medicine that deals with health \\nproblems of the male and female urinary systems, and the \\nmale reproductive system.\\nMale urinary tract\\nFemale urinary tract\\nThe urinary tract stores and gets rid of urine (liquid waste) \\nand extra water. The urinary tract is a pathway in the body. It \\nincludes the kidneys, ureters (tubes from kidneys to bladder), \\nbladder and urethra (tube from bladder to outside the body). \\nThe male reproductive system makes, stores and moves \\nsemen to make babies. It’s made of the prostate, scrotum, \\ntestes and penis. A doctor who specializes in these body \\nparts is called a urologist.\\nWhat are Urologists?\\nA urologist is a medical doctor and surgeon. Urologists \\nare trained to find, treat and handle urinary and genital \\nproblems. They gain 15+ years of school and training \\n(undergraduate, medical and residency) before they can be \\ncertified by the American Board of Urology. They learn about \\nthe latest care through training during their career. This type \\nof doctor is called a “specialist.”\\nUrology nurses (RNs), nurse practitioners (NPs), licensed \\npractical nurses (LPNs) and physician assistants (PAs) also \\nwork in a urology office. They gain training to work in \\nurology too. Some urologists are sub-specialists. This means \\nthey have extra wisdom in parts of urology. They may focus \\non children, cancer, infertility, the kidneys or the nervous \\nsystem. For example, pediatric urologists treat children with \\nurologic conditions.  \\nWhat is a Pediatric Urologist?\\nA pediatric urologist’s job is to find, treat and handle \\nchildren’s urinary and genital problems. Children’s bodies \\nare not fully grown, so they need different care than adults. \\nIf surgery is needed, an expert in treating children is of \\ngreat value. Pediatric urologists care for patients from birth \\nthrough the teen years.\\nGENERAL UROLOGY\\nUrology Basics\\nWhat You Should Know\\n©2022 Urology Care Foundation. All Rights Reserved.\\nGeneralUrology-UrologyBasics-FS-2022-English\\nUrology Care Foundation  |  UrologyHealth.org\\n\\uf082 UrologyCareFoundation    \\uf081 @UrologyCareFdn    instagram @UrologyCareFdn'),\n",
       " Document(metadata={'producer': 'Adobe PDF Library 16.0.7', 'creator': 'Adobe InDesign 17.4 (Macintosh)', 'creationdate': '2022-10-21T08:31:18-04:00', 'moddate': '2022-10-21T08:31:22-04:00', 'trapped': '/False', 'source': 'data\\\\GeneralUrology-UrologyBasics-FS-2022-English (1).pdf', 'total_pages': 2, 'page': 1, 'page_label': '2'}, page_content='Why Visit a Urologist?\\nUrologists help patients with health issues like:\\n• Pain when passing urine (peeing), like a urinary tract \\ninfection (UTI)\\n• Problems with urine leaks, like with incontinence\\n• Bladder issues, like overactive bladder (OAB)\\n• Kidney stones\\n• Problems with urine flow\\n• Problems getting pregnant (infertility)\\n• Problems with genitals (male or female sex organs)\\n• Enlarged prostate or prostatitis\\n• Cancers in the kidneys, bladder, testicles, penis or prostate\\n• Male hormone problems, like low testosterone\\nHow Can I Find a Urologist?\\nYour primary care doctor can help you find a local urologist. \\nYou can also use the “Find a Urologist” search-tool on \\nUrologyHealth.org. \\nQuestions to Ask: \\nsquare   Are you Board-certified in urology? If not, can you refer \\nme to someone who is? \\nsquare   Do you have experience treating my problem? \\nsquare   Do you take my insurance?\\nAbout the Urology Care Foundation\\nThe Urology Care Foundation is the world’s leading urologic \\nfoundation – and the official foundation of the American \\nUrological Association. We provide information for those \\nactively managing their urologic health and those ready \\nto make health changes. Our information is based on the \\nAmerican Urological Association resources and is reviewed \\nby medical experts.\\nTo learn more, visit the Urology Care Foundation’s  \\nwebsite, UrologyHealth.org/UrologicConditions or  \\ngo to UrologyHealth.org/FindAUrologist to find a  \\ndoctor near you.\\nDisclaimer\\nThis information is not a tool for self-diagnosis or a \\nsubstitute for professional medical advice. It is not to \\nbe used or relied on for that purpose. Please talk to \\nyour urologist or health care provider about your health \\nconcerns. Always talk to a health care provider before you \\nstart or stop any treatments, including medications.\\nFor more information about Prostate Cancer and other \\nurologic conditions, visit UrologyHealth.org/Download or \\ncall 800-828-7866.\\n©2022 Urology Care Foundation. All Rights Reserved.\\nGeneralUrology-UrologyBasics-FS-2022-English\\nUrology Basics\\nWhat You Should Know\\nUrology Care Foundation  |  UrologyHealth.org\\n\\uf082 UrologyCareFoundation    \\uf081 @UrologyCareFdn    instagram @UrologyCareFdn')]"
      ]
     },
     "execution_count": 6,
     "metadata": {},
     "output_type": "execute_result"
    }
   ],
   "source": [
    "extracted_data"
   ]
  },
  {
   "cell_type": "code",
   "execution_count": 7,
   "id": "4b04eb16",
   "metadata": {},
   "outputs": [
    {
     "data": {
      "text/plain": [
       "2"
      ]
     },
     "execution_count": 7,
     "metadata": {},
     "output_type": "execute_result"
    }
   ],
   "source": [
    "len(extracted_data)"
   ]
  },
  {
   "cell_type": "code",
   "execution_count": 8,
   "id": "ef6eb45a",
   "metadata": {},
   "outputs": [],
   "source": [
    "from typing import List\n",
    "from langchain.schema import Document\n",
    "\n",
    "def filter_to_minimal_docs(docs: List[Document]) -> List[Document]:\n",
    "    \"\"\"\n",
    "    Given a list of Document objects, return a new list of Document objects\n",
    "    containing only 'source' in metadata and the original page_content.\n",
    "    \"\"\"\n",
    "    minimal_docs: List[Document] = []\n",
    "    for doc in docs:\n",
    "        src = doc.metadata.get(\"source\")\n",
    "        minimal_docs.append(\n",
    "            Document(\n",
    "                page_content=doc.page_content,\n",
    "                metadata={\"source\": src}\n",
    "            )\n",
    "        )\n",
    "    return minimal_docs"
   ]
  },
  {
   "cell_type": "code",
   "execution_count": 9,
   "id": "035416f8",
   "metadata": {},
   "outputs": [],
   "source": [
    "minimal_docs = filter_to_minimal_docs(extracted_data)"
   ]
  },
  {
   "cell_type": "code",
   "execution_count": 10,
   "id": "0425a3fd",
   "metadata": {},
   "outputs": [
    {
     "data": {
      "text/plain": [
       "[Document(metadata={'source': 'data\\\\GeneralUrology-UrologyBasics-FS-2022-English (1).pdf'}, page_content='What is Urology?\\nUrology is a branch of medicine that deals with health \\nproblems of the male and female urinary systems, and the \\nmale reproductive system.\\nMale urinary tract\\nFemale urinary tract\\nThe urinary tract stores and gets rid of urine (liquid waste) \\nand extra water. The urinary tract is a pathway in the body. It \\nincludes the kidneys, ureters (tubes from kidneys to bladder), \\nbladder and urethra (tube from bladder to outside the body). \\nThe male reproductive system makes, stores and moves \\nsemen to make babies. It’s made of the prostate, scrotum, \\ntestes and penis. A doctor who specializes in these body \\nparts is called a urologist.\\nWhat are Urologists?\\nA urologist is a medical doctor and surgeon. Urologists \\nare trained to find, treat and handle urinary and genital \\nproblems. They gain 15+ years of school and training \\n(undergraduate, medical and residency) before they can be \\ncertified by the American Board of Urology. They learn about \\nthe latest care through training during their career. This type \\nof doctor is called a “specialist.”\\nUrology nurses (RNs), nurse practitioners (NPs), licensed \\npractical nurses (LPNs) and physician assistants (PAs) also \\nwork in a urology office. They gain training to work in \\nurology too. Some urologists are sub-specialists. This means \\nthey have extra wisdom in parts of urology. They may focus \\non children, cancer, infertility, the kidneys or the nervous \\nsystem. For example, pediatric urologists treat children with \\nurologic conditions.  \\nWhat is a Pediatric Urologist?\\nA pediatric urologist’s job is to find, treat and handle \\nchildren’s urinary and genital problems. Children’s bodies \\nare not fully grown, so they need different care than adults. \\nIf surgery is needed, an expert in treating children is of \\ngreat value. Pediatric urologists care for patients from birth \\nthrough the teen years.\\nGENERAL UROLOGY\\nUrology Basics\\nWhat You Should Know\\n©2022 Urology Care Foundation. All Rights Reserved.\\nGeneralUrology-UrologyBasics-FS-2022-English\\nUrology Care Foundation  |  UrologyHealth.org\\n\\uf082 UrologyCareFoundation    \\uf081 @UrologyCareFdn    instagram @UrologyCareFdn'),\n",
       " Document(metadata={'source': 'data\\\\GeneralUrology-UrologyBasics-FS-2022-English (1).pdf'}, page_content='Why Visit a Urologist?\\nUrologists help patients with health issues like:\\n• Pain when passing urine (peeing), like a urinary tract \\ninfection (UTI)\\n• Problems with urine leaks, like with incontinence\\n• Bladder issues, like overactive bladder (OAB)\\n• Kidney stones\\n• Problems with urine flow\\n• Problems getting pregnant (infertility)\\n• Problems with genitals (male or female sex organs)\\n• Enlarged prostate or prostatitis\\n• Cancers in the kidneys, bladder, testicles, penis or prostate\\n• Male hormone problems, like low testosterone\\nHow Can I Find a Urologist?\\nYour primary care doctor can help you find a local urologist. \\nYou can also use the “Find a Urologist” search-tool on \\nUrologyHealth.org. \\nQuestions to Ask: \\nsquare   Are you Board-certified in urology? If not, can you refer \\nme to someone who is? \\nsquare   Do you have experience treating my problem? \\nsquare   Do you take my insurance?\\nAbout the Urology Care Foundation\\nThe Urology Care Foundation is the world’s leading urologic \\nfoundation – and the official foundation of the American \\nUrological Association. We provide information for those \\nactively managing their urologic health and those ready \\nto make health changes. Our information is based on the \\nAmerican Urological Association resources and is reviewed \\nby medical experts.\\nTo learn more, visit the Urology Care Foundation’s  \\nwebsite, UrologyHealth.org/UrologicConditions or  \\ngo to UrologyHealth.org/FindAUrologist to find a  \\ndoctor near you.\\nDisclaimer\\nThis information is not a tool for self-diagnosis or a \\nsubstitute for professional medical advice. It is not to \\nbe used or relied on for that purpose. Please talk to \\nyour urologist or health care provider about your health \\nconcerns. Always talk to a health care provider before you \\nstart or stop any treatments, including medications.\\nFor more information about Prostate Cancer and other \\nurologic conditions, visit UrologyHealth.org/Download or \\ncall 800-828-7866.\\n©2022 Urology Care Foundation. All Rights Reserved.\\nGeneralUrology-UrologyBasics-FS-2022-English\\nUrology Basics\\nWhat You Should Know\\nUrology Care Foundation  |  UrologyHealth.org\\n\\uf082 UrologyCareFoundation    \\uf081 @UrologyCareFdn    instagram @UrologyCareFdn')]"
      ]
     },
     "execution_count": 10,
     "metadata": {},
     "output_type": "execute_result"
    }
   ],
   "source": [
    "minimal_docs"
   ]
  },
  {
   "cell_type": "code",
   "execution_count": 11,
   "id": "3e6bb875",
   "metadata": {},
   "outputs": [],
   "source": [
    "# Split the documents into smaller chunks\n",
    "def text_split(minimal_docs):\n",
    "    text_splitter = RecursiveCharacterTextSplitter(\n",
    "        chunk_size=500,\n",
    "        chunk_overlap=20,\n",
    "    )\n",
    "    texts_chunk = text_splitter.split_documents(minimal_docs)\n",
    "    return texts_chunk"
   ]
  },
  {
   "cell_type": "code",
   "execution_count": 12,
   "id": "3a69cf4d",
   "metadata": {},
   "outputs": [
    {
     "name": "stdout",
     "output_type": "stream",
     "text": [
      "Number of chunks: 10\n"
     ]
    }
   ],
   "source": [
    "texts_chunk = text_split(minimal_docs)\n",
    "print(f\"Number of chunks: {len(texts_chunk)}\")"
   ]
  },
  {
   "cell_type": "code",
   "execution_count": 13,
   "id": "21e96976",
   "metadata": {},
   "outputs": [
    {
     "data": {
      "text/plain": [
       "[Document(metadata={'source': 'data\\\\GeneralUrology-UrologyBasics-FS-2022-English (1).pdf'}, page_content='What is Urology?\\nUrology is a branch of medicine that deals with health \\nproblems of the male and female urinary systems, and the \\nmale reproductive system.\\nMale urinary tract\\nFemale urinary tract\\nThe urinary tract stores and gets rid of urine (liquid waste) \\nand extra water. The urinary tract is a pathway in the body. It \\nincludes the kidneys, ureters (tubes from kidneys to bladder), \\nbladder and urethra (tube from bladder to outside the body).'),\n",
       " Document(metadata={'source': 'data\\\\GeneralUrology-UrologyBasics-FS-2022-English (1).pdf'}, page_content='The male reproductive system makes, stores and moves \\nsemen to make babies. It’s made of the prostate, scrotum, \\ntestes and penis. A doctor who specializes in these body \\nparts is called a urologist.\\nWhat are Urologists?\\nA urologist is a medical doctor and surgeon. Urologists \\nare trained to find, treat and handle urinary and genital \\nproblems. They gain 15+ years of school and training \\n(undergraduate, medical and residency) before they can be'),\n",
       " Document(metadata={'source': 'data\\\\GeneralUrology-UrologyBasics-FS-2022-English (1).pdf'}, page_content='certified by the American Board of Urology. They learn about \\nthe latest care through training during their career. This type \\nof doctor is called a “specialist.”\\nUrology nurses (RNs), nurse practitioners (NPs), licensed \\npractical nurses (LPNs) and physician assistants (PAs) also \\nwork in a urology office. They gain training to work in \\nurology too. Some urologists are sub-specialists. This means \\nthey have extra wisdom in parts of urology. They may focus'),\n",
       " Document(metadata={'source': 'data\\\\GeneralUrology-UrologyBasics-FS-2022-English (1).pdf'}, page_content='on children, cancer, infertility, the kidneys or the nervous \\nsystem. For example, pediatric urologists treat children with \\nurologic conditions.  \\nWhat is a Pediatric Urologist?\\nA pediatric urologist’s job is to find, treat and handle \\nchildren’s urinary and genital problems. Children’s bodies \\nare not fully grown, so they need different care than adults. \\nIf surgery is needed, an expert in treating children is of \\ngreat value. Pediatric urologists care for patients from birth'),\n",
       " Document(metadata={'source': 'data\\\\GeneralUrology-UrologyBasics-FS-2022-English (1).pdf'}, page_content='through the teen years.\\nGENERAL UROLOGY\\nUrology Basics\\nWhat You Should Know\\n©2022 Urology Care Foundation. All Rights Reserved.\\nGeneralUrology-UrologyBasics-FS-2022-English\\nUrology Care Foundation  |  UrologyHealth.org\\n\\uf082 UrologyCareFoundation    \\uf081 @UrologyCareFdn    instagram @UrologyCareFdn'),\n",
       " Document(metadata={'source': 'data\\\\GeneralUrology-UrologyBasics-FS-2022-English (1).pdf'}, page_content='Why Visit a Urologist?\\nUrologists help patients with health issues like:\\n• Pain when passing urine (peeing), like a urinary tract \\ninfection (UTI)\\n• Problems with urine leaks, like with incontinence\\n• Bladder issues, like overactive bladder (OAB)\\n• Kidney stones\\n• Problems with urine flow\\n• Problems getting pregnant (infertility)\\n• Problems with genitals (male or female sex organs)\\n• Enlarged prostate or prostatitis\\n• Cancers in the kidneys, bladder, testicles, penis or prostate'),\n",
       " Document(metadata={'source': 'data\\\\GeneralUrology-UrologyBasics-FS-2022-English (1).pdf'}, page_content='• Male hormone problems, like low testosterone\\nHow Can I Find a Urologist?\\nYour primary care doctor can help you find a local urologist. \\nYou can also use the “Find a Urologist” search-tool on \\nUrologyHealth.org. \\nQuestions to Ask: \\nsquare   Are you Board-certified in urology? If not, can you refer \\nme to someone who is? \\nsquare   Do you have experience treating my problem? \\nsquare   Do you take my insurance?\\nAbout the Urology Care Foundation'),\n",
       " Document(metadata={'source': 'data\\\\GeneralUrology-UrologyBasics-FS-2022-English (1).pdf'}, page_content='The Urology Care Foundation is the world’s leading urologic \\nfoundation – and the official foundation of the American \\nUrological Association. We provide information for those \\nactively managing their urologic health and those ready \\nto make health changes. Our information is based on the \\nAmerican Urological Association resources and is reviewed \\nby medical experts.\\nTo learn more, visit the Urology Care Foundation’s  \\nwebsite, UrologyHealth.org/UrologicConditions or'),\n",
       " Document(metadata={'source': 'data\\\\GeneralUrology-UrologyBasics-FS-2022-English (1).pdf'}, page_content='go to UrologyHealth.org/FindAUrologist to find a  \\ndoctor near you.\\nDisclaimer\\nThis information is not a tool for self-diagnosis or a \\nsubstitute for professional medical advice. It is not to \\nbe used or relied on for that purpose. Please talk to \\nyour urologist or health care provider about your health \\nconcerns. Always talk to a health care provider before you \\nstart or stop any treatments, including medications.\\nFor more information about Prostate Cancer and other'),\n",
       " Document(metadata={'source': 'data\\\\GeneralUrology-UrologyBasics-FS-2022-English (1).pdf'}, page_content='urologic conditions, visit UrologyHealth.org/Download or \\ncall 800-828-7866.\\n©2022 Urology Care Foundation. All Rights Reserved.\\nGeneralUrology-UrologyBasics-FS-2022-English\\nUrology Basics\\nWhat You Should Know\\nUrology Care Foundation  |  UrologyHealth.org\\n\\uf082 UrologyCareFoundation    \\uf081 @UrologyCareFdn    instagram @UrologyCareFdn')]"
      ]
     },
     "execution_count": 13,
     "metadata": {},
     "output_type": "execute_result"
    }
   ],
   "source": [
    "texts_chunk"
   ]
  },
  {
   "cell_type": "code",
   "execution_count": 14,
   "id": "2676a4d0",
   "metadata": {},
   "outputs": [
    {
     "name": "stderr",
     "output_type": "stream",
     "text": [
      "C:\\Users\\shah\\AppData\\Local\\Temp\\ipykernel_10256\\30168171.py:8: LangChainDeprecationWarning: The class `HuggingFaceEmbeddings` was deprecated in LangChain 0.2.2 and will be removed in 1.0. An updated version of the class exists in the :class:`~langchain-huggingface package and should be used instead. To use it run `pip install -U :class:`~langchain-huggingface` and import as `from :class:`~langchain_huggingface import HuggingFaceEmbeddings``.\n",
      "  embeddings = HuggingFaceEmbeddings(\n",
      "C:\\Users\\shah\\AppData\\Roaming\\Python\\Python311\\site-packages\\tqdm\\auto.py:21: TqdmWarning: IProgress not found. Please update jupyter and ipywidgets. See https://ipywidgets.readthedocs.io/en/stable/user_install.html\n",
      "  from .autonotebook import tqdm as notebook_tqdm\n"
     ]
    }
   ],
   "source": [
    "from langchain.embeddings import HuggingFaceEmbeddings\n",
    "\n",
    "def download_embeddings():\n",
    "    \"\"\"\n",
    "    Download and return the HuggingFace embeddings model.\n",
    "    \"\"\"\n",
    "    model_name = \"sentence-transformers/all-MiniLM-L6-v2\"\n",
    "    embeddings = HuggingFaceEmbeddings(\n",
    "        model_name=model_name\n",
    "    )\n",
    "    return embeddings\n",
    "\n",
    "embedding = download_embeddings()"
   ]
  },
  {
   "cell_type": "code",
   "execution_count": 15,
   "id": "4de41e19",
   "metadata": {},
   "outputs": [
    {
     "data": {
      "text/plain": [
       "HuggingFaceEmbeddings(client=SentenceTransformer(\n",
       "  (0): Transformer({'max_seq_length': 256, 'do_lower_case': False}) with Transformer model: BertModel \n",
       "  (1): Pooling({'word_embedding_dimension': 384, 'pooling_mode_cls_token': False, 'pooling_mode_mean_tokens': True, 'pooling_mode_max_tokens': False, 'pooling_mode_mean_sqrt_len_tokens': False, 'pooling_mode_weightedmean_tokens': False, 'pooling_mode_lasttoken': False, 'include_prompt': True})\n",
       "  (2): Normalize()\n",
       "), model_name='sentence-transformers/all-MiniLM-L6-v2', cache_folder=None, model_kwargs={}, encode_kwargs={}, multi_process=False, show_progress=False)"
      ]
     },
     "execution_count": 15,
     "metadata": {},
     "output_type": "execute_result"
    }
   ],
   "source": [
    "embedding"
   ]
  },
  {
   "cell_type": "code",
   "execution_count": 16,
   "id": "aad6ea21",
   "metadata": {},
   "outputs": [
    {
     "data": {
      "text/plain": [
       "[-0.03447727486491203,\n",
       " 0.03102317824959755,\n",
       " 0.006734970025718212,\n",
       " 0.026108985766768456,\n",
       " -0.03936202451586723,\n",
       " -0.16030244529247284,\n",
       " 0.06692401319742203,\n",
       " -0.006441489793360233,\n",
       " -0.0474504791200161,\n",
       " 0.014758856035768986,\n",
       " 0.07087527960538864,\n",
       " 0.05552763119339943,\n",
       " 0.019193334504961967,\n",
       " -0.026251312345266342,\n",
       " -0.01010954286903143,\n",
       " -0.02694045566022396,\n",
       " 0.022307461127638817,\n",
       " -0.022226648405194283,\n",
       " -0.14969263970851898,\n",
       " -0.017493007704615593,\n",
       " 0.00767625542357564,\n",
       " 0.05435224249958992,\n",
       " 0.0032543970737606287,\n",
       " 0.031725890934467316,\n",
       " -0.0846213847398758,\n",
       " -0.02940601296722889,\n",
       " 0.05159561336040497,\n",
       " 0.04812406003475189,\n",
       " -0.0033148222137242556,\n",
       " -0.058279167860746384,\n",
       " 0.04196927323937416,\n",
       " 0.022210685536265373,\n",
       " 0.1281888335943222,\n",
       " -0.022338971495628357,\n",
       " -0.011656315997242928,\n",
       " 0.06292839348316193,\n",
       " -0.032876335084438324,\n",
       " -0.09122604131698608,\n",
       " -0.031175347045063972,\n",
       " 0.0526994913816452,\n",
       " 0.04703482985496521,\n",
       " -0.08420311659574509,\n",
       " -0.030056199058890343,\n",
       " -0.02074483036994934,\n",
       " 0.009517835453152657,\n",
       " -0.0037217906210571527,\n",
       " 0.007343285251408815,\n",
       " 0.03932438790798187,\n",
       " 0.0932740643620491,\n",
       " -0.003788596484810114,\n",
       " -0.052742067724466324,\n",
       " -0.05805816128849983,\n",
       " -0.006864361464977264,\n",
       " 0.005283191800117493,\n",
       " 0.0828929990530014,\n",
       " 0.019362755119800568,\n",
       " 0.0062844837084412575,\n",
       " -0.010330787859857082,\n",
       " 0.009032378904521465,\n",
       " -0.037683695554733276,\n",
       " -0.04520607739686966,\n",
       " 0.024016305804252625,\n",
       " -0.006944137159734964,\n",
       " 0.013491630554199219,\n",
       " 0.10005494207143784,\n",
       " -0.07168391346931458,\n",
       " -0.021695120260119438,\n",
       " 0.031618405133485794,\n",
       " -0.051634665578603745,\n",
       " -0.08224772661924362,\n",
       " -0.06569333374500275,\n",
       " -0.00989533495157957,\n",
       " 0.005816374905407429,\n",
       " 0.07355456054210663,\n",
       " -0.034050311893224716,\n",
       " 0.0248861201107502,\n",
       " 0.014488042332231998,\n",
       " 0.02645738422870636,\n",
       " 0.009656722657382488,\n",
       " 0.0302172489464283,\n",
       " 0.05280393362045288,\n",
       " -0.07535984367132187,\n",
       " 0.009897145442664623,\n",
       " 0.029836809262633324,\n",
       " 0.01755557768046856,\n",
       " 0.023091984912753105,\n",
       " 0.001933806692250073,\n",
       " 0.0014002545503899455,\n",
       " -0.04717595875263214,\n",
       " -0.011194315738976002,\n",
       " -0.11420144140720367,\n",
       " -0.019811924546957016,\n",
       " 0.040266189724206924,\n",
       " 0.0021929906215518713,\n",
       " -0.07979220896959305,\n",
       " -0.02538231760263443,\n",
       " 0.09448299556970596,\n",
       " -0.02898104302585125,\n",
       " -0.14500252902507782,\n",
       " 0.23097744584083557,\n",
       " 0.027731187641620636,\n",
       " 0.03211146965622902,\n",
       " 0.03106505796313286,\n",
       " 0.04283284768462181,\n",
       " 0.06423777341842651,\n",
       " 0.03216316178441048,\n",
       " -0.004876770544797182,\n",
       " 0.055699463933706284,\n",
       " -0.03753238171339035,\n",
       " -0.02150554023683071,\n",
       " -0.028342634439468384,\n",
       " -0.028846951201558113,\n",
       " 0.0383530892431736,\n",
       " -0.017468664795160294,\n",
       " 0.052485305815935135,\n",
       " -0.07487601786851883,\n",
       " -0.03125976398587227,\n",
       " 0.021841565147042274,\n",
       " -0.03989570587873459,\n",
       " -0.008587091229856014,\n",
       " 0.026956576853990555,\n",
       " -0.04849553853273392,\n",
       " 0.011469882912933826,\n",
       " 0.02961820363998413,\n",
       " -0.02057218924164772,\n",
       " 0.013103843666613102,\n",
       " 0.028833510354161263,\n",
       " -3.1941990848222185e-33,\n",
       " 0.06478213518857956,\n",
       " -0.018130183219909668,\n",
       " 0.051789961755275726,\n",
       " 0.12198275327682495,\n",
       " 0.028780106455087662,\n",
       " 0.008721951395273209,\n",
       " -0.07052119821310043,\n",
       " -0.016907278448343277,\n",
       " 0.04073973000049591,\n",
       " 0.042116157710552216,\n",
       " 0.025447236374020576,\n",
       " 0.03574628755450249,\n",
       " -0.04914471507072449,\n",
       " 0.0021290204022079706,\n",
       " -0.015546582639217377,\n",
       " 0.050730545073747635,\n",
       " -0.0481853261590004,\n",
       " 0.03588061034679413,\n",
       " -0.0040670474991202354,\n",
       " 0.10172472149133682,\n",
       " -0.05597002059221268,\n",
       " -0.010681048966944218,\n",
       " 0.01123578567057848,\n",
       " 0.09068653732538223,\n",
       " 0.004234451334923506,\n",
       " 0.035138655453920364,\n",
       " -0.009702847339212894,\n",
       " -0.09386517852544785,\n",
       " 0.0928555428981781,\n",
       " 0.008004927076399326,\n",
       " -0.007705425377935171,\n",
       " -0.05208674445748329,\n",
       " -0.012587991543114185,\n",
       " 0.0032669377978891134,\n",
       " 0.006013509817421436,\n",
       " 0.007581559009850025,\n",
       " 0.01051718182861805,\n",
       " -0.08634556829929352,\n",
       " -0.06987880170345306,\n",
       " -0.0025338928680866957,\n",
       " -0.09097658842802048,\n",
       " 0.04688733071088791,\n",
       " 0.052076540887355804,\n",
       " 0.007193844299763441,\n",
       " 0.010903622955083847,\n",
       " -0.0052295587956905365,\n",
       " 0.013937311246991158,\n",
       " 0.021968349814414978,\n",
       " 0.03420866280794144,\n",
       " 0.060224682092666626,\n",
       " 0.00011665470083244145,\n",
       " 0.014731976203620434,\n",
       " -0.07008926570415497,\n",
       " 0.028499048203229904,\n",
       " -0.02760172076523304,\n",
       " 0.010768445208668709,\n",
       " 0.034830961376428604,\n",
       " -0.02248787134885788,\n",
       " 0.009769017808139324,\n",
       " 0.07722785323858261,\n",
       " 0.021588314324617386,\n",
       " 0.11495620757341385,\n",
       " -0.0680011734366417,\n",
       " 0.02376098558306694,\n",
       " -0.0159839428961277,\n",
       " -0.0178269911557436,\n",
       " 0.06439495831727982,\n",
       " 0.032025739550590515,\n",
       " 0.05027025192975998,\n",
       " -0.005913770757615566,\n",
       " -0.03370805084705353,\n",
       " 0.017840256914496422,\n",
       " 0.016573317348957062,\n",
       " 0.06329657882452011,\n",
       " 0.03467721864581108,\n",
       " 0.046473488211631775,\n",
       " 0.09790610522031784,\n",
       " -0.00663550291210413,\n",
       " 0.02520712837576866,\n",
       " -0.07798824459314346,\n",
       " 0.0169264767318964,\n",
       " -0.000945797364693135,\n",
       " 0.022471921518445015,\n",
       " -0.038253191858530045,\n",
       " 0.09570474177598953,\n",
       " -0.005350803025066853,\n",
       " 0.010469110682606697,\n",
       " -0.11524055153131485,\n",
       " -0.013262521475553513,\n",
       " -0.010709455236792564,\n",
       " -0.08311725407838821,\n",
       " 0.07327353954315186,\n",
       " 0.04939225688576698,\n",
       " -0.008994322270154953,\n",
       " -0.09584552049636841,\n",
       " 3.3661485617505796e-33,\n",
       " 0.12493184208869934,\n",
       " 0.01934972032904625,\n",
       " -0.05822571739554405,\n",
       " -0.03598826378583908,\n",
       " -0.05074676498770714,\n",
       " -0.04566238448023796,\n",
       " -0.08260336518287659,\n",
       " 0.1481948047876358,\n",
       " -0.08842118829488754,\n",
       " 0.06027443706989288,\n",
       " 0.05103015899658203,\n",
       " 0.01030314713716507,\n",
       " 0.14121422171592712,\n",
       " 0.03081384487450123,\n",
       " 0.061033159494400024,\n",
       " -0.052851270884275436,\n",
       " 0.1366489678621292,\n",
       " 0.00918989721685648,\n",
       " -0.01732518896460533,\n",
       " -0.012848555110394955,\n",
       " -0.007995282299816608,\n",
       " -0.0509800985455513,\n",
       " -0.05235064774751663,\n",
       " 0.007593012880533934,\n",
       " -0.015166307799518108,\n",
       " 0.01696030981838703,\n",
       " 0.021270520985126495,\n",
       " 0.020558107644319534,\n",
       " -0.12002813816070557,\n",
       " 0.014461833983659744,\n",
       " 0.02675991877913475,\n",
       " 0.025330696254968643,\n",
       " -0.0427546352148056,\n",
       " 0.006768387276679277,\n",
       " -0.01445858459919691,\n",
       " 0.04526195675134659,\n",
       " -0.09147648513317108,\n",
       " -0.019439145922660828,\n",
       " -0.017833467572927475,\n",
       " -0.05491018295288086,\n",
       " -0.052641112357378006,\n",
       " -0.010459048673510551,\n",
       " -0.052016086876392365,\n",
       " 0.020891955122351646,\n",
       " -0.07997036725282669,\n",
       " -0.012111340649425983,\n",
       " -0.05773142725229263,\n",
       " 0.023178234696388245,\n",
       " -0.008031732402741909,\n",
       " -0.02598930336534977,\n",
       " -0.07995671033859253,\n",
       " -0.020728832110762596,\n",
       " 0.048817697912454605,\n",
       " -0.020389137789607048,\n",
       " -0.04917657747864723,\n",
       " 0.014159622602164745,\n",
       " -0.06362202018499374,\n",
       " -0.007807393092662096,\n",
       " 0.01643155701458454,\n",
       " -0.0256824791431427,\n",
       " 0.013381040655076504,\n",
       " 0.026248741894960403,\n",
       " 0.009978413581848145,\n",
       " 0.06322886794805527,\n",
       " 0.002672201255336404,\n",
       " -0.006582767236977816,\n",
       " 0.01663188263773918,\n",
       " 0.03236646577715874,\n",
       " 0.03794245794415474,\n",
       " -0.036376070231199265,\n",
       " -0.006910930387675762,\n",
       " 0.0001596928050275892,\n",
       " -0.0016335808904841542,\n",
       " -0.02727821283042431,\n",
       " -0.02803807333111763,\n",
       " 0.049681417644023895,\n",
       " -0.028867173939943314,\n",
       " -0.0024180689360946417,\n",
       " 0.014774908311665058,\n",
       " 0.009764534421265125,\n",
       " 0.005797638092190027,\n",
       " 0.013486160896718502,\n",
       " 0.0055678957141935825,\n",
       " 0.03722710534930229,\n",
       " 0.007232527248561382,\n",
       " 0.04015626385807991,\n",
       " 0.08150326460599899,\n",
       " 0.07199167460203171,\n",
       " -0.013056126423180103,\n",
       " -0.0428820475935936,\n",
       " -0.01101123820990324,\n",
       " 0.004897820297628641,\n",
       " -0.009229730814695358,\n",
       " 0.035191506147384644,\n",
       " -0.05103502422571182,\n",
       " -1.571437557856825e-08,\n",
       " -0.08862441033124924,\n",
       " 0.02390925958752632,\n",
       " -0.01623876392841339,\n",
       " 0.031700510531663895,\n",
       " 0.027284247800707817,\n",
       " 0.05246882885694504,\n",
       " -0.047070957720279694,\n",
       " -0.058847445994615555,\n",
       " -0.06320822983980179,\n",
       " 0.04088849574327469,\n",
       " 0.04982800409197807,\n",
       " 0.10655171424150467,\n",
       " -0.07450230419635773,\n",
       " -0.012495421804487705,\n",
       " 0.01837071217596531,\n",
       " 0.03947412595152855,\n",
       " -0.024797886610031128,\n",
       " 0.014516262337565422,\n",
       " -0.03706921637058258,\n",
       " 0.02001572772860527,\n",
       " -4.85817035951186e-05,\n",
       " 0.00986657664179802,\n",
       " 0.024838753044605255,\n",
       " -0.05245814099907875,\n",
       " 0.029314178973436356,\n",
       " -0.08719190955162048,\n",
       " -0.01449968758970499,\n",
       " 0.026019077748060226,\n",
       " -0.01874636672437191,\n",
       " -0.07620512694120407,\n",
       " 0.03504333272576332,\n",
       " 0.10363949835300446,\n",
       " -0.028050510212779045,\n",
       " 0.012718182988464832,\n",
       " -0.07632549107074738,\n",
       " -0.01865232177078724,\n",
       " 0.02497672848403454,\n",
       " 0.0814453512430191,\n",
       " 0.06875883787870407,\n",
       " -0.0640566498041153,\n",
       " -0.08389385789632797,\n",
       " 0.06136231869459152,\n",
       " -0.033545564860105515,\n",
       " -0.10615336894989014,\n",
       " -0.040080588310956955,\n",
       " 0.032530225813388824,\n",
       " 0.07662483304738998,\n",
       " -0.0730162113904953,\n",
       " 0.00033755265758372843,\n",
       " -0.040871646255254745,\n",
       " -0.0757884755730629,\n",
       " 0.027527665719389915,\n",
       " 0.07462543249130249,\n",
       " 0.01771726831793785,\n",
       " 0.09121846407651901,\n",
       " 0.11022016406059265,\n",
       " 0.0005697731394320726,\n",
       " 0.05146336182951927,\n",
       " -0.014551310800015926,\n",
       " 0.03323203697800636,\n",
       " 0.023792240768671036,\n",
       " -0.02288980595767498,\n",
       " 0.038937538862228394,\n",
       " 0.030206844210624695]"
      ]
     },
     "execution_count": 16,
     "metadata": {},
     "output_type": "execute_result"
    }
   ],
   "source": [
    "vector = embedding.embed_query(\"Hello world\")\n",
    "vector"
   ]
  },
  {
   "cell_type": "code",
   "execution_count": 17,
   "id": "6614d0f5",
   "metadata": {},
   "outputs": [
    {
     "name": "stdout",
     "output_type": "stream",
     "text": [
      "Vector length: 384\n"
     ]
    }
   ],
   "source": [
    "print( \"Vector length:\", len(vector))"
   ]
  },
  {
   "cell_type": "code",
   "execution_count": 18,
   "id": "6c8dca99",
   "metadata": {},
   "outputs": [
    {
     "data": {
      "text/plain": [
       "True"
      ]
     },
     "execution_count": 18,
     "metadata": {},
     "output_type": "execute_result"
    }
   ],
   "source": [
    "from dotenv import load_dotenv\n",
    "import os\n",
    "load_dotenv()"
   ]
  },
  {
   "cell_type": "code",
   "execution_count": 19,
   "id": "7c1dfe4b",
   "metadata": {},
   "outputs": [],
   "source": [
    "# Pinecone setup\n",
    "PINECONE_API_KEY = os.environ.get(\"PINECONE_API_KEY\")\n",
    "if not PINECONE_API_KEY:\n",
    "    raise ValueError(\"❌ PINECONE_API_KEY not found in .env file\")\n",
    "os.environ[\"PINECONE_API_KEY\"] = PINECONE_API_KEY\n",
    "\n",
    "# Groq setup\n",
    "GROQ_API_KEY = os.environ.get(\"GROQ_API_KEY\")\n",
    "if not GROQ_API_KEY:\n",
    "    raise ValueError(\"❌ GROQ_API_KEY not found in .env file\")\n",
    "os.environ[\"GROQ_API_KEY\"] = GROQ_API_KEY"
   ]
  },
  {
   "cell_type": "code",
   "execution_count": 20,
   "id": "dca8a610",
   "metadata": {},
   "outputs": [],
   "source": [
    "from pinecone import Pinecone \n",
    "pinecone_api_key = PINECONE_API_KEY\n",
    "\n",
    "pc = Pinecone(api_key=pinecone_api_key)"
   ]
  },
  {
   "cell_type": "code",
   "execution_count": 21,
   "id": "47d37fac",
   "metadata": {},
   "outputs": [
    {
     "data": {
      "text/plain": [
       "<pinecone.pinecone.Pinecone at 0x24603aa95d0>"
      ]
     },
     "execution_count": 21,
     "metadata": {},
     "output_type": "execute_result"
    }
   ],
   "source": [
    "pc"
   ]
  },
  {
   "cell_type": "code",
   "execution_count": 22,
   "id": "40ac0601",
   "metadata": {},
   "outputs": [],
   "source": [
    "from pinecone import ServerlessSpec \n",
    "\n",
    "index_name = \"medical-chatbot\"\n",
    "\n",
    "if not pc.has_index(index_name):\n",
    "    pc.create_index(\n",
    "        name = index_name,\n",
    "        dimension=384,  # Dimension of the embeddings\n",
    "        metric= \"cosine\",  # Cosine similarity\n",
    "        spec=ServerlessSpec(cloud=\"aws\", region=\"us-east-1\")\n",
    "    )\n",
    "\n",
    "\n",
    "index = pc.Index(index_name)"
   ]
  },
  {
   "cell_type": "code",
   "execution_count": 23,
   "id": "f5d37903",
   "metadata": {},
   "outputs": [],
   "source": [
    "from langchain_pinecone import PineconeVectorStore\n",
    "\n",
    "docsearch = PineconeVectorStore.from_documents(\n",
    "    documents=texts_chunk,\n",
    "    embedding=embedding,\n",
    "    index_name=index_name\n",
    ")"
   ]
  },
  {
   "cell_type": "code",
   "execution_count": 24,
   "id": "45fa73ae",
   "metadata": {},
   "outputs": [],
   "source": [
    "# Load Existing index \n",
    "\n",
    "from langchain_pinecone import PineconeVectorStore\n",
    "# Embed each chunk and upsert the embeddings into your Pinecone index.\n",
    "docsearch = PineconeVectorStore.from_existing_index(\n",
    "    index_name=index_name,\n",
    "    embedding=embedding\n",
    ")"
   ]
  },
  {
   "cell_type": "code",
   "execution_count": 35,
   "id": "4fc42226",
   "metadata": {},
   "outputs": [],
   "source": [
    "shoukatwith_1 = Document(\n",
    "    page_content=\"contact number is 03339017427 and he used whatsapp also on this number.\"\n",
    ")"
   ]
  },
  {
   "cell_type": "code",
   "execution_count": 25,
   "id": "9da64cdb",
   "metadata": {},
   "outputs": [],
   "source": [
    "shoukatwith = Document(\n",
    "    page_content=\"\"\"Dr. Zakir Khan – Consultant Urologist & Surgeon\n",
    "\n",
    "Dr. Zakir Khan is a highly respected and experienced medical professional in Pakistan. He is a Consultant Urologist and Surgeon with extensive qualifications and professional achievements. Currently, he practices at Rehmat Medical Center, where he provides specialized medical care in the fields of Urology, Infertility, and General Surgery. His career reflects years of dedication, training, and service in well-known hospitals across Pakistan, including Peshawar, Rawalpindi, and Nowshera.\n",
    "\n",
    "Educational Qualifications\n",
    "Dr. Zakir Khan start his education from student model school akora khattak and completed his matriculation from there.then he get admission in intermediate at khyber model college nowshera.\n",
    "\n",
    "Dr. Zakir Khan’s medical education and postgraduate training are comprehensive and demonstrate his commitment to continuous learning and specialization. His academic achievements include:\n",
    "\n",
    "MBBS (KMC) – He completed his Bachelor of Medicine and Bachelor of Surgery (MBBS) from Khyber Medical College (KMC), one of the oldest and most prestigious medical institutions in Pakistan. KMC has a long-standing reputation for producing highly competent doctors, and his foundation training there equipped him with essential medical and surgical knowledge.\n",
    "\n",
    "FCPS (Urology) – He is a Fellow of the College of Physicians and Surgeons Pakistan (FCPS) in Urology, which is one of the most recognized and respected postgraduate medical qualifications in Pakistan. This fellowship represents years of specialized training in Urology, including surgical procedures related to the urinary tract, kidneys, bladder, prostate, and male reproductive system.\n",
    "\n",
    "MCPS (General Surgery) CRSM (Lahore) – He also holds the Membership of the College of Physicians and Surgeons (MCPS) in General Surgery from CRSM Lahore. This qualification highlights his strong surgical foundation, enabling him to handle a wide range of surgical cases, not limited only to urology.\n",
    "\n",
    "These qualifications together reflect his ability to serve both as a general surgeon and a specialized urologist.\n",
    "\n",
    "Professional Experience\n",
    "\n",
    "Dr. Zakir Khan’s career includes training and service in some of the most reputable hospitals in Pakistan:\n",
    "\n",
    "Ex Registrar (HMC Peshawar) – He worked as a Registrar at Hayatabad Medical Complex (HMC), Peshawar, where he gained hands-on experience in treating complex urological and surgical cases.\n",
    "\n",
    "AFIU CMH Rawalpindi – He has been associated with the Armed Forces Institute of Urology (AFIU) at Combined Military Hospital (CMH), Rawalpindi. AFIU is one of the most advanced urology centers in Pakistan, where he had exposure to highly specialized surgeries and procedures in urology.\n",
    "\n",
    "Urologist DHQ Hospital Nowshera – He served as a Urologist at District Headquarters (DHQ) Hospital Nowshera, where he treated a large number of patients from diverse backgrounds, managing both common and complex urological disorders.\n",
    "\n",
    "Visiting Consultant Jinnah Teaching Hospital Peshawar – He has also worked as a Visiting Consultant at Jinnah Teaching Hospital, Peshawar, where he shared his expertise with both patients and medical trainees.\n",
    "\n",
    "Senior Registrar Muhammad Teaching Hospital Peshawar – His career includes serving as a Senior Registrar at Muhammad Teaching Hospital, Peshawar, where he combined clinical practice with mentoring junior doctors.\n",
    "\n",
    "Through these roles, Dr. Zakir Khan has built a reputation as an expert clinician and surgeon, trusted by patients and respected by colleagues.\n",
    "\n",
    "Areas of Specialization\n",
    "\n",
    "Dr. Zakir Khan specializes in the following medical fields:\n",
    "\n",
    "Urology – Treatment of kidney stones, bladder disorders, prostate diseases, urinary tract infections, male reproductive system issues, and other urinary problems.\n",
    "\n",
    "Infertility – Providing care and treatment options for male infertility, assisting couples with conception-related challenges.\n",
    "\n",
    "General Surgery – Performing a wide range of surgical procedures, thanks to his dual training in both general surgery and urology.\n",
    "\n",
    "His dual qualifications and wide-ranging experience allow him to provide holistic surgical and urological care to his patients.\n",
    "\n",
    "Contributions to Medical Practice\n",
    "\n",
    "Patient Care – He is known for his compassionate and patient-centered approach. Patients appreciate his clear explanations and personalized treatment plans.\n",
    "\n",
    "Teaching & Mentorship – Through his roles in teaching hospitals, he has contributed to the training of future doctors and surgeons.\n",
    "\n",
    "Hospital Services – His work across multiple hospitals shows his dedication to serving diverse communities, from big cities like Rawalpindi to smaller districts like Nowshera.\n",
    "\n",
    "Rehmat Medical Center\n",
    "\n",
    "Currently, Dr. Zakir Khan practices at Rehmat Medical Center, where he leads the Urology & Infertility Clinic. This center provides advanced diagnostic and treatment facilities for patients suffering from urological and infertility problems. The clinic is known for combining modern medicine with patient-focused care.\n",
    "\n",
    "Frequently Asked Questions (FAQ)\n",
    "\n",
    "Q1: Who is Dr. Zakir Khan?\n",
    "A: Dr. Zakir Khan is a Consultant Urologist and Surgeon, practicing at Rehmat Medical Center.\n",
    "\n",
    "Q2: What are his qualifications?\n",
    "A: MBBS (KMC), FCPS (Urology), MCPS (General Surgery) CRSM (Lahore).\n",
    "\n",
    "Q3: Where has he worked?\n",
    "A: HMC Peshawar, AFIU CMH Rawalpindi, DHQ Hospital Nowshera, Jinnah Teaching Hospital Peshawar, Muhammad Teaching Hospital Peshawar.\n",
    "\n",
    "Q4: What is his specialization?\n",
    "A: Urology, Infertility, and General Surgery.\n",
    "\n",
    "Q5: Where can I consult him?\n",
    "A: At Rehmat Medical Center.\n",
    "\n",
    "Q6: Does he have experience in teaching hospitals?\n",
    "A: Yes, he served as a Senior Registrar and Visiting Consultant at major teaching hospitals in Peshawar.\n",
    "\n",
    "Tags for Retrieval\n",
    "\n",
    "Dr. Zakir Khan, Rehmat Medical Center, Urologist in Peshawar, Urologist in Rawalpindi, Urologist in Nowshera, Infertility specialist Pakistan, General Surgeon Peshawar, FCPS Urology, MBBS KMC, MCPS Surgery.\n",
    "\n",
    "Summary\n",
    "\n",
    "Dr. Zakir Khan is one of the leading Consultant Urologists and Surgeons in Pakistan. With strong educational qualifications (MBBS, FCPS, MCPS) and years of experience in leading hospitals across Peshawar, Rawalpindi, and Nowshera, he has established himself as a trusted medical expert. His specialization in Urology and Infertility makes him an essential healthcare provider for patients suffering from urinary tract diseases, kidney disorders, prostate issues, male infertility, and surgical needs. Currently, he practices at Rehmat Medical Center, where he continues to serve patients with dedication, skill, and compassion..\"\"\",\n",
    "    metadata={\"source\": \"pdf\"}\n",
    ")"
   ]
  },
  {
   "cell_type": "code",
   "execution_count": 36,
   "id": "a3e06666",
   "metadata": {},
   "outputs": [
    {
     "data": {
      "text/plain": [
       "['84df0d82-bafb-4724-bc01-a0fadd57ab66']"
      ]
     },
     "execution_count": 36,
     "metadata": {},
     "output_type": "execute_result"
    }
   ],
   "source": [
    "docsearch.add_documents(documents=[shoukatwith_1])"
   ]
  },
  {
   "cell_type": "code",
   "execution_count": 27,
   "id": "513b41e7",
   "metadata": {},
   "outputs": [],
   "source": [
    "retriever = docsearch.as_retriever(search_type=\"similarity\", search_kwargs={\"k\":3})"
   ]
  },
  {
   "cell_type": "code",
   "execution_count": 28,
   "id": "0196b38f",
   "metadata": {},
   "outputs": [
    {
     "data": {
      "text/plain": [
       "[Document(id='5843bbd5-5798-4e28-8f9b-7874541a1833', metadata={'source': 'linkedin'}, page_content='shoukat khan is a chatbot developer and data scientist have one year of experience .'),\n",
       " Document(id='47ada812-c544-40dd-8c32-382dd1d6493f', metadata={'source': 'pdf'}, page_content='Dr. Zakir Khan – Consultant Urologist & Surgeon\\n\\nDr. Zakir Khan is a highly respected and experienced medical professional in Pakistan. He is a Consultant Urologist and Surgeon with extensive qualifications and professional achievements. Currently, he practices at Rehmat Medical Center, where he provides specialized medical care in the fields of Urology, Infertility, and General Surgery. His career reflects years of dedication, training, and service in well-known hospitals across Pakistan, including Peshawar, Rawalpindi, and Nowshera.\\n\\nEducational Qualifications\\nDr. Zakir Khan start his education from student model school akora khattak and completed his matriculation from there.then he get admission in intermediate at khyber model college nowshera.\\n\\nDr. Zakir Khan’s medical education and postgraduate training are comprehensive and demonstrate his commitment to continuous learning and specialization. His academic achievements include:\\n\\nMBBS (KMC) – He completed his Bachelor of Medicine and Bachelor of Surgery (MBBS) from Khyber Medical College (KMC), one of the oldest and most prestigious medical institutions in Pakistan. KMC has a long-standing reputation for producing highly competent doctors, and his foundation training there equipped him with essential medical and surgical knowledge.\\n\\nFCPS (Urology) – He is a Fellow of the College of Physicians and Surgeons Pakistan (FCPS) in Urology, which is one of the most recognized and respected postgraduate medical qualifications in Pakistan. This fellowship represents years of specialized training in Urology, including surgical procedures related to the urinary tract, kidneys, bladder, prostate, and male reproductive system.\\n\\nMCPS (General Surgery) CRSM (Lahore) – He also holds the Membership of the College of Physicians and Surgeons (MCPS) in General Surgery from CRSM Lahore. This qualification highlights his strong surgical foundation, enabling him to handle a wide range of surgical cases, not limited only to urology.\\n\\nThese qualifications together reflect his ability to serve both as a general surgeon and a specialized urologist.\\n\\nProfessional Experience\\n\\nDr. Zakir Khan’s career includes training and service in some of the most reputable hospitals in Pakistan:\\n\\nEx Registrar (HMC Peshawar) – He worked as a Registrar at Hayatabad Medical Complex (HMC), Peshawar, where he gained hands-on experience in treating complex urological and surgical cases.\\n\\nAFIU CMH Rawalpindi – He has been associated with the Armed Forces Institute of Urology (AFIU) at Combined Military Hospital (CMH), Rawalpindi. AFIU is one of the most advanced urology centers in Pakistan, where he had exposure to highly specialized surgeries and procedures in urology.\\n\\nUrologist DHQ Hospital Nowshera – He served as a Urologist at District Headquarters (DHQ) Hospital Nowshera, where he treated a large number of patients from diverse backgrounds, managing both common and complex urological disorders.\\n\\nVisiting Consultant Jinnah Teaching Hospital Peshawar – He has also worked as a Visiting Consultant at Jinnah Teaching Hospital, Peshawar, where he shared his expertise with both patients and medical trainees.\\n\\nSenior Registrar Muhammad Teaching Hospital Peshawar – His career includes serving as a Senior Registrar at Muhammad Teaching Hospital, Peshawar, where he combined clinical practice with mentoring junior doctors.\\n\\nThrough these roles, Dr. Zakir Khan has built a reputation as an expert clinician and surgeon, trusted by patients and respected by colleagues.\\n\\nAreas of Specialization\\n\\nDr. Zakir Khan specializes in the following medical fields:\\n\\nUrology – Treatment of kidney stones, bladder disorders, prostate diseases, urinary tract infections, male reproductive system issues, and other urinary problems.\\n\\nInfertility – Providing care and treatment options for male infertility, assisting couples with conception-related challenges.\\n\\nGeneral Surgery – Performing a wide range of surgical procedures, thanks to his dual training in both general surgery and urology.\\n\\nHis dual qualifications and wide-ranging experience allow him to provide holistic surgical and urological care to his patients.\\n\\nContributions to Medical Practice\\n\\nPatient Care – He is known for his compassionate and patient-centered approach. Patients appreciate his clear explanations and personalized treatment plans.\\n\\nTeaching & Mentorship – Through his roles in teaching hospitals, he has contributed to the training of future doctors and surgeons.\\n\\nHospital Services – His work across multiple hospitals shows his dedication to serving diverse communities, from big cities like Rawalpindi to smaller districts like Nowshera.\\n\\nRehmat Medical Center\\n\\nCurrently, Dr. Zakir Khan practices at Rehmat Medical Center, where he leads the Urology & Infertility Clinic. This center provides advanced diagnostic and treatment facilities for patients suffering from urological and infertility problems. The clinic is known for combining modern medicine with patient-focused care.\\n\\nFrequently Asked Questions (FAQ)\\n\\nQ1: Who is Dr. Zakir Khan?\\nA: Dr. Zakir Khan is a Consultant Urologist and Surgeon, practicing at Rehmat Medical Center.\\n\\nQ2: What are his qualifications?\\nA: MBBS (KMC), FCPS (Urology), MCPS (General Surgery) CRSM (Lahore).\\n\\nQ3: Where has he worked?\\nA: HMC Peshawar, AFIU CMH Rawalpindi, DHQ Hospital Nowshera, Jinnah Teaching Hospital Peshawar, Muhammad Teaching Hospital Peshawar.\\n\\nQ4: What is his specialization?\\nA: Urology, Infertility, and General Surgery.\\n\\nQ5: Where can I consult him?\\nA: At Rehmat Medical Center.\\n\\nQ6: Does he have experience in teaching hospitals?\\nA: Yes, he served as a Senior Registrar and Visiting Consultant at major teaching hospitals in Peshawar.\\n\\nTags for Retrieval\\n\\nDr. Zakir Khan, Rehmat Medical Center, Urologist in Peshawar, Urologist in Rawalpindi, Urologist in Nowshera, Infertility specialist Pakistan, General Surgeon Peshawar, FCPS Urology, MBBS KMC, MCPS Surgery.\\n\\nSummary\\n\\nDr. Zakir Khan is one of the leading Consultant Urologists and Surgeons in Pakistan. With strong educational qualifications (MBBS, FCPS, MCPS) and years of experience in leading hospitals across Peshawar, Rawalpindi, and Nowshera, he has established himself as a trusted medical expert. His specialization in Urology and Infertility makes him an essential healthcare provider for patients suffering from urinary tract diseases, kidney disorders, prostate issues, male infertility, and surgical needs. Currently, he practices at Rehmat Medical Center, where he continues to serve patients with dedication, skill, and compassion..'),\n",
       " Document(id='61fc4c43-44f6-495f-8627-b14865570e92', metadata={'source': 'data\\\\GeneralUrology-UrologyBasics-FS-2022-English (1).pdf'}, page_content='The male reproductive system makes, stores and moves \\nsemen to make babies. It’s made of the prostate, scrotum, \\ntestes and penis. A doctor who specializes in these body \\nparts is called a urologist.\\nWhat are Urologists?\\nA urologist is a medical doctor and surgeon. Urologists \\nare trained to find, treat and handle urinary and genital \\nproblems. They gain 15+ years of school and training \\n(undergraduate, medical and residency) before they can be')]"
      ]
     },
     "execution_count": 28,
     "metadata": {},
     "output_type": "execute_result"
    }
   ],
   "source": [
    "retrieved_docs = retriever.invoke(\"Who is shoukat?\")\n",
    "retrieved_docs"
   ]
  },
  {
   "cell_type": "code",
   "execution_count": 29,
   "id": "ff629f79",
   "metadata": {},
   "outputs": [],
   "source": [
    "from langchain_groq import ChatGroq  \n",
    "\n",
    "chatModel = ChatGroq(model=\"llama3-8b-8192\")\n"
   ]
  },
  {
   "cell_type": "code",
   "execution_count": 30,
   "id": "44d2175e",
   "metadata": {},
   "outputs": [],
   "source": [
    "from langchain.chains import create_retrieval_chain\n",
    "from langchain.chains.combine_documents import create_stuff_documents_chain\n",
    "from langchain_core.prompts import ChatPromptTemplate"
   ]
  },
  {
   "cell_type": "code",
   "execution_count": 31,
   "id": "95a38b29",
   "metadata": {},
   "outputs": [],
   "source": [
    "system_prompt = (\n",
    "    \"You are urology Medical assistant for question-answering tasks. \"\n",
    "    \"Use the following pieces of retrieved context to answer \"\n",
    "    \"the question. If you don't know the answer, say that you \"\n",
    "    \"don't know. Use three sentences maximum and keep the \"\n",
    "    \"answer concise.\"\n",
    "    \"\\n\\n\"\n",
    "    \"{context}\"\n",
    ")\n",
    "\n",
    "\n",
    "prompt = ChatPromptTemplate.from_messages(\n",
    "    [\n",
    "        (\"system\", system_prompt),\n",
    "        (\"human\", \"{input}\"),\n",
    "    ]\n",
    ")"
   ]
  },
  {
   "cell_type": "code",
   "execution_count": 32,
   "id": "c19caffa",
   "metadata": {},
   "outputs": [],
   "source": [
    "question_answer_chain = create_stuff_documents_chain(chatModel, prompt)\n",
    "rag_chain = create_retrieval_chain(retriever, question_answer_chain)"
   ]
  },
  {
   "cell_type": "code",
   "execution_count": 33,
   "id": "6cb2c803",
   "metadata": {},
   "outputs": [
    {
     "name": "stdout",
     "output_type": "stream",
     "text": [
      "According to the provided context, Shoukat Khan is a chatbot developer and data scientist with one year of experience.\n"
     ]
    }
   ],
   "source": [
    "response = rag_chain.invoke({\"input\": \"who is shoukat?\"})\n",
    "print(response[\"answer\"])"
   ]
  },
  {
   "cell_type": "code",
   "execution_count": null,
   "id": "e14ef092",
   "metadata": {},
   "outputs": [],
   "source": []
  }
 ],
 "metadata": {
  "kernelspec": {
   "display_name": "chatbot_env",
   "language": "python",
   "name": "python3"
  },
  "language_info": {
   "codemirror_mode": {
    "name": "ipython",
    "version": 3
   },
   "file_extension": ".py",
   "mimetype": "text/x-python",
   "name": "python",
   "nbconvert_exporter": "python",
   "pygments_lexer": "ipython3",
   "version": "3.11.13"
  }
 },
 "nbformat": 4,
 "nbformat_minor": 5
}
